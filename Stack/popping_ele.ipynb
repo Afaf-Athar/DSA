{
 "cells": [
  {
   "cell_type": "markdown",
   "metadata": {},
   "source": [
    "#### Popping ELements in my_stack"
   ]
  },
  {
   "cell_type": "code",
   "execution_count": 4,
   "metadata": {},
   "outputs": [
    {
     "name": "stdout",
     "output_type": "stream",
     "text": [
      "Initial stack\n",
      "['a', 'b', 'c']\n",
      "\n",
      "Elements popped from stack:\n",
      "c\n",
      "b\n",
      "a\n",
      "\n",
      "Stack after elements are popped:\n",
      "[]\n"
     ]
    }
   ],
   "source": [
    "# Python program to\n",
    "# demonstrate my_stack implementation\n",
    "# using list\n",
    "\n",
    "my_stack = []\n",
    "\n",
    "# append() function to push\n",
    "# element in the stack\n",
    "my_stack.append('a')\n",
    "my_stack.append('b')\n",
    "my_stack.append('c')\n",
    "\n",
    "print('Initial stack')\n",
    "print(my_stack)\n",
    "\n",
    "# pop() function to pop\n",
    "# element from stack in\n",
    "# LIFO order\n",
    "print('\\nElements popped from stack:')\n",
    "print(my_stack.pop())\n",
    "print(my_stack.pop())\n",
    "print(my_stack.pop())\n",
    "\n",
    "print('\\nStack after elements are popped:')\n",
    "print(my_stack)\n",
    "\n",
    "# uncommenting print(stack.pop())\n",
    "# will cause an IndexError\n",
    "# as the stack is now empty"
   ]
  },
  {
   "cell_type": "code",
   "execution_count": null,
   "metadata": {},
   "outputs": [],
   "source": []
  },
  {
   "cell_type": "code",
   "execution_count": null,
   "metadata": {},
   "outputs": [],
   "source": []
  }
 ],
 "metadata": {
  "kernelspec": {
   "display_name": "base",
   "language": "python",
   "name": "python3"
  },
  "language_info": {
   "codemirror_mode": {
    "name": "ipython",
    "version": 3
   },
   "file_extension": ".py",
   "mimetype": "text/x-python",
   "name": "python",
   "nbconvert_exporter": "python",
   "pygments_lexer": "ipython3",
   "version": "3.9.7"
  }
 },
 "nbformat": 4,
 "nbformat_minor": 2
}
