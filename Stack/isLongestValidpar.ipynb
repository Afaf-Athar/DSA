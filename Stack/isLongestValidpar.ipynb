{
 "cells": [
  {
   "cell_type": "markdown",
   "metadata": {},
   "source": [
    "#### Is Longest Valid Paranthesis"
   ]
  },
  {
   "cell_type": "code",
   "execution_count": 1,
   "metadata": {},
   "outputs": [],
   "source": [
    "from collections import deque\n",
    "\n",
    "def isLongestValidpar(s): \n",
    "    \n",
    "    my_stack = deque()\n",
    "    count = 0\n",
    "\n",
    "    for i in s:\n",
    "        if ((i == '(') or (i == '[') or  (i == '{')):\n",
    "            my_stack.append(i)\n",
    "\n",
    "        elif ( (i == ')') and (len(my_stack)!=0) and  (my_stack[-1]=='(' ) ):\n",
    "            my_stack.pop()\n",
    "\n",
    "            count = count +2 \n",
    "        \n",
    "    return count\n",
    "\n",
    "\n"
   ]
  },
  {
   "cell_type": "code",
   "execution_count": 2,
   "metadata": {},
   "outputs": [
    {
     "data": {
      "text/plain": [
       "4"
      ]
     },
     "execution_count": 2,
     "metadata": {},
     "output_type": "execute_result"
    }
   ],
   "source": [
    "\n",
    "# s = '()'\n",
    "# s = '((()'\n",
    "s = ')()())'\n",
    "isLongestValidpar = isLongestValidpar(s)\n",
    "isLongestValidpar"
   ]
  },
  {
   "cell_type": "code",
   "execution_count": null,
   "metadata": {},
   "outputs": [],
   "source": []
  },
  {
   "cell_type": "code",
   "execution_count": null,
   "metadata": {},
   "outputs": [],
   "source": []
  }
 ],
 "metadata": {
  "kernelspec": {
   "display_name": "base",
   "language": "python",
   "name": "python3"
  },
  "language_info": {
   "codemirror_mode": {
    "name": "ipython",
    "version": 3
   },
   "file_extension": ".py",
   "mimetype": "text/x-python",
   "name": "python",
   "nbconvert_exporter": "python",
   "pygments_lexer": "ipython3",
   "version": "3.9.7"
  }
 },
 "nbformat": 4,
 "nbformat_minor": 2
}
