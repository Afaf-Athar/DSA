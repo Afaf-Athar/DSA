{
 "cells": [
  {
   "cell_type": "markdown",
   "metadata": {},
   "source": [
    "#### Popping ELements in my_stack"
   ]
  },
  {
   "cell_type": "code",
   "execution_count": 1,
   "metadata": {},
   "outputs": [],
   "source": [
    "from collections import deque\n",
    "\n",
    "def isPalindrome(s): \n",
    "    \n",
    "    my_stack = deque()\n",
    "    half_way = len(s)//2 if (len(s)%2 == 0) else (len(s)//2)+1\n",
    "    print(half_way)\n",
    "    \n",
    "    \n",
    "    for i in range(half_way):\n",
    "        print(s[i])\n",
    "\n",
    "        if (s[half_way+1]==s[-1]):\n",
    "            print('pass')\n",
    "    \n",
    "    # return True\n",
    "\n",
    "    # print(my_stack)\n",
    "\n",
    "    if(len(my_stack)==0):\n",
    "        return True\n",
    "    else:\n",
    "        return False"
   ]
  },
  {
   "cell_type": "code",
   "execution_count": 2,
   "metadata": {},
   "outputs": [
    {
     "name": "stdout",
     "output_type": "stream",
     "text": [
      "2\n",
      "a\n",
      "pass\n",
      "b\n",
      "pass\n"
     ]
    },
    {
     "data": {
      "text/plain": [
       "True"
      ]
     },
     "execution_count": 2,
     "metadata": {},
     "output_type": "execute_result"
    }
   ],
   "source": [
    "# s = \"Malyalam\"\n",
    "s = \"abba\"\n",
    "isPalindrome = isPalindrome(s)\n",
    "isPalindrome"
   ]
  },
  {
   "cell_type": "code",
   "execution_count": null,
   "metadata": {},
   "outputs": [],
   "source": []
  },
  {
   "cell_type": "code",
   "execution_count": null,
   "metadata": {},
   "outputs": [],
   "source": []
  }
 ],
 "metadata": {
  "kernelspec": {
   "display_name": "base",
   "language": "python",
   "name": "python3"
  },
  "language_info": {
   "codemirror_mode": {
    "name": "ipython",
    "version": 3
   },
   "file_extension": ".py",
   "mimetype": "text/x-python",
   "name": "python",
   "nbconvert_exporter": "python",
   "pygments_lexer": "ipython3",
   "version": "3.9.7"
  }
 },
 "nbformat": 4,
 "nbformat_minor": 2
}
