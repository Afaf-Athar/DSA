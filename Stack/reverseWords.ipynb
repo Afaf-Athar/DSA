{
 "cells": [
  {
   "cell_type": "markdown",
   "metadata": {},
   "source": [
    "#### Reverse A Word"
   ]
  },
  {
   "cell_type": "code",
   "execution_count": 1,
   "metadata": {},
   "outputs": [],
   "source": [
    "from collections import deque\n",
    "\n",
    "def reverseWords(s): \n",
    "    \n",
    "    my_stack = deque()\n",
    "    for i in s:\n",
    "        my_stack.append(i)\n",
    "    print(my_stack)\n",
    "\n",
    "    rev_string = []\n",
    "    while(len(my_stack)!=0):\n",
    "        ele = my_stack.pop()\n",
    "        rev_string.append(ele)\n",
    "        rev_s = \"\".join(rev_string)\n",
    "    print(rev_s)\n"
   ]
  },
  {
   "cell_type": "code",
   "execution_count": 2,
   "metadata": {},
   "outputs": [
    {
     "name": "stdout",
     "output_type": "stream",
     "text": [
      "deque(['G', 'e', 'e', 'k', ' ', 'f', 'o', 'r', ' ', 'G', 'e', 'e', 'k'])\n",
      "keeG rof keeG\n"
     ]
    }
   ],
   "source": [
    "\n",
    "# s = '()'\n",
    "# s = '((()'\n",
    "s = 'Geek for Geek'\n",
    "reverseWords = reverseWords(s)\n",
    "reverseWords"
   ]
  },
  {
   "cell_type": "code",
   "execution_count": null,
   "metadata": {},
   "outputs": [],
   "source": []
  },
  {
   "cell_type": "code",
   "execution_count": null,
   "metadata": {},
   "outputs": [],
   "source": []
  },
  {
   "cell_type": "code",
   "execution_count": null,
   "metadata": {},
   "outputs": [],
   "source": []
  }
 ],
 "metadata": {
  "kernelspec": {
   "display_name": "base",
   "language": "python",
   "name": "python3"
  },
  "language_info": {
   "codemirror_mode": {
    "name": "ipython",
    "version": 3
   },
   "file_extension": ".py",
   "mimetype": "text/x-python",
   "name": "python",
   "nbconvert_exporter": "python",
   "pygments_lexer": "ipython3",
   "version": "3.9.7"
  }
 },
 "nbformat": 4,
 "nbformat_minor": 2
}
