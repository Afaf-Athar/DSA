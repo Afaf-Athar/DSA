{
 "cells": [
  {
   "cell_type": "markdown",
   "metadata": {},
   "source": [
    "#### Popping ELements in my_stack"
   ]
  },
  {
   "cell_type": "code",
   "execution_count": 27,
   "metadata": {},
   "outputs": [],
   "source": [
    "from collections import deque\n",
    "\n",
    "def isValid(s): \n",
    "    \n",
    "    my_stack = deque()\n",
    "    \n",
    "    \n",
    "    for i in s:\n",
    "        if ((i == '(' ) or (i == '[') or (i =='{' )):\n",
    "            my_stack.append(i)\n",
    "\n",
    "        elif ((i == ')') and (len(my_stack)!=0) and (my_stack[-1] == '(')):\n",
    "            my_stack.pop()\n",
    "\n",
    "        elif ((i == '}') and (len(my_stack)!=0) and (my_stack[-1] == '{')):\n",
    "            my_stack.pop()\n",
    "\n",
    "        elif ((i == ']') and (len(my_stack)!=0) and (my_stack[-1] == '[')):\n",
    "            my_stack.pop()\n",
    "        \n",
    "        else:\n",
    "\n",
    "            return False\n",
    "    \n",
    "    # return True\n",
    "\n",
    "\n",
    "    # print(my_stack)\n",
    "\n",
    "    if(len(my_stack)==0):\n",
    "        return True\n",
    "    else:\n",
    "        return False"
   ]
  },
  {
   "cell_type": "code",
   "execution_count": 28,
   "metadata": {},
   "outputs": [
    {
     "data": {
      "text/plain": [
       "False"
      ]
     },
     "execution_count": 28,
     "metadata": {},
     "output_type": "execute_result"
    }
   ],
   "source": [
    "# s  = '[]()}'\n",
    "# s = '()'\n",
    "# s = '()[]{}'\n",
    "s = \"({}\"\n",
    "isValid = isValid(s)\n",
    "isValid"
   ]
  },
  {
   "cell_type": "code",
   "execution_count": null,
   "metadata": {},
   "outputs": [],
   "source": []
  },
  {
   "cell_type": "code",
   "execution_count": null,
   "metadata": {},
   "outputs": [],
   "source": []
  }
 ],
 "metadata": {
  "kernelspec": {
   "display_name": "base",
   "language": "python",
   "name": "python3"
  },
  "language_info": {
   "codemirror_mode": {
    "name": "ipython",
    "version": 3
   },
   "file_extension": ".py",
   "mimetype": "text/x-python",
   "name": "python",
   "nbconvert_exporter": "python",
   "pygments_lexer": "ipython3",
   "version": "3.9.7"
  }
 },
 "nbformat": 4,
 "nbformat_minor": 2
}
