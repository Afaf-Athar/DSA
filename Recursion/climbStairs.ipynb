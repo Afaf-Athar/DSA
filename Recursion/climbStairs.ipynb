{
 "cells": [
  {
   "cell_type": "markdown",
   "metadata": {},
   "source": [
    "##### Climbing Stairs"
   ]
  },
  {
   "cell_type": "code",
   "execution_count": 7,
   "metadata": {},
   "outputs": [],
   "source": [
    "\n",
    "def climbStairs(n):\n",
    "    seen = {0:1}\n",
    "    if n < 0:\n",
    "        return 0\n",
    "    else:\n",
    "        if n in seen:\n",
    "            return  seen[n]\n",
    "        else:\n",
    "            firststep =  climbStairs(n-1)\n",
    "            secondstep =  climbStairs(n-2)\n",
    "            seen[n] = firststep + secondstep\n",
    "    \n",
    "    return  seen[n]"
   ]
  },
  {
   "cell_type": "code",
   "execution_count": 8,
   "metadata": {},
   "outputs": [
    {
     "data": {
      "text/plain": [
       "8"
      ]
     },
     "execution_count": 8,
     "metadata": {},
     "output_type": "execute_result"
    }
   ],
   "source": [
    "n = 5\n",
    "# n=3\n",
    "climbStairs = climbStairs(n)\n",
    "climbStairs"
   ]
  },
  {
   "cell_type": "code",
   "execution_count": null,
   "metadata": {},
   "outputs": [],
   "source": []
  }
 ],
 "metadata": {
  "kernelspec": {
   "display_name": "base",
   "language": "python",
   "name": "python3"
  },
  "language_info": {
   "codemirror_mode": {
    "name": "ipython",
    "version": 3
   },
   "file_extension": ".py",
   "mimetype": "text/x-python",
   "name": "python",
   "nbconvert_exporter": "python",
   "pygments_lexer": "ipython3",
   "version": "3.9.7"
  }
 },
 "nbformat": 4,
 "nbformat_minor": 2
}
