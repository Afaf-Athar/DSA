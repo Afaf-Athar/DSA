{
 "cells": [
  {
   "cell_type": "markdown",
   "metadata": {},
   "source": [
    "##### sumOfNo"
   ]
  },
  {
   "cell_type": "code",
   "execution_count": 26,
   "metadata": {},
   "outputs": [],
   "source": [
    "\n",
    "def sumOfNo(n):\n",
    "    seen = {0:0}\n",
    "    if n == 1:\n",
    "        return 1\n",
    "    else:\n",
    "        if n in seen:\n",
    "            return  seen[n]\n",
    "        else:\n",
    "            firststep =  n + sumOfNo(n-1)\n",
    "            seen[n] = firststep \n",
    "    \n",
    "    return  seen[n]"
   ]
  },
  {
   "cell_type": "code",
   "execution_count": 27,
   "metadata": {},
   "outputs": [
    {
     "data": {
      "text/plain": [
       "1"
      ]
     },
     "execution_count": 27,
     "metadata": {},
     "output_type": "execute_result"
    }
   ],
   "source": [
    "# n = 5\n",
    "# n = 3\n",
    "n = 1\n",
    "sumOfNo = sumOfNo(n)\n",
    "sumOfNo"
   ]
  },
  {
   "cell_type": "code",
   "execution_count": null,
   "metadata": {},
   "outputs": [],
   "source": []
  }
 ],
 "metadata": {
  "kernelspec": {
   "display_name": "base",
   "language": "python",
   "name": "python3"
  },
  "language_info": {
   "codemirror_mode": {
    "name": "ipython",
    "version": 3
   },
   "file_extension": ".py",
   "mimetype": "text/x-python",
   "name": "python",
   "nbconvert_exporter": "python",
   "pygments_lexer": "ipython3",
   "version": "3.9.7"
  }
 },
 "nbformat": 4,
 "nbformat_minor": 2
}
