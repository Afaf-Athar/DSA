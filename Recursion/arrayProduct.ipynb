{
 "cells": [
  {
   "cell_type": "markdown",
   "metadata": {},
   "source": [
    "##### arrayProduct"
   ]
  },
  {
   "cell_type": "code",
   "execution_count": 116,
   "metadata": {},
   "outputs": [
    {
     "name": "stdout",
     "output_type": "stream",
     "text": [
      "120\n",
      "16\n",
      "1\n",
      "27\n",
      "10\n",
      "2\n",
      "625\n"
     ]
    }
   ],
   "source": [
    "def arrayProduct(nums):\n",
    "\n",
    "    if len(nums) == 1:\n",
    "        return nums[0]\n",
    "\n",
    "    return productOfnum(nums)\n",
    "\n",
    "def productOfnum(nums):\n",
    "    product = 1\n",
    "    for num in nums:\n",
    "        product *= num\n",
    "    return product\n",
    "\n",
    "# Test cases\n",
    "print(arrayProduct([1, 2, 3, 4, 5]))  # Output: 120\n",
    "print(arrayProduct([2, 2, 2, 2]))      # Output: 16\n",
    "print(arrayProduct([1, 1, 1, 1, 1]))   # Output: 1\n",
    "print(arrayProduct([3, 3, 3]))          # Output: 27\n",
    "print(arrayProduct([10]))                # Output: 10\n",
    "print(arrayProduct([1, 2]))              # Output: 2\n",
    "print(arrayProduct([5, 5, 5, 5]))       # Output: 625\n"
   ]
  },
  {
   "cell_type": "code",
   "execution_count": 113,
   "metadata": {},
   "outputs": [],
   "source": [
    "\n",
    "def arrayProduct(nums):\n",
    "    memo = {}\n",
    "        \n",
    "    def productOfnum(i):\n",
    "        product = 1\n",
    "\n",
    "        if i == len(nums):\n",
    "            return 1\n",
    "        \n",
    "        if i in memo:\n",
    "            return memo[i]\n",
    "        \n",
    "        product = nums[i] * productOfnum(i+1)\n",
    "        memo[i] = product\n",
    "\n",
    "        return product\n",
    "    \n",
    "    return productOfnum(0)"
   ]
  },
  {
   "cell_type": "code",
   "execution_count": 114,
   "metadata": {},
   "outputs": [
    {
     "data": {
      "text/plain": [
       "16"
      ]
     },
     "execution_count": 114,
     "metadata": {},
     "output_type": "execute_result"
    }
   ],
   "source": [
    "# nums = [1, 2, 3, 4]\n",
    "nums = [2, 2, 2, 2]\n",
    "# nums = [2, 3, 4]\n",
    "# nums= [5]\n",
    "# nums = 1\n",
    "sumOfNo = arrayProduct(nums)\n",
    "sumOfNo"
   ]
  },
  {
   "cell_type": "code",
   "execution_count": 115,
   "metadata": {},
   "outputs": [
    {
     "name": "stdout",
     "output_type": "stream",
     "text": [
      "120\n",
      "16\n",
      "1\n",
      "27\n",
      "10\n",
      "2\n",
      "625\n"
     ]
    }
   ],
   "source": [
    "print(arrayProduct([1, 2, 3, 4, 5]))  # Output: 120\n",
    "print(arrayProduct([2, 2, 2, 2]))      # Output: 16\n",
    "print(arrayProduct([1, 1, 1, 1, 1]))   # Output: 1\n",
    "print(arrayProduct([3, 3, 3]))          # Output: 27\n",
    "print(arrayProduct([10]))                # Output: 10\n",
    "print(arrayProduct([1, 2]))              # Output: 2\n",
    "print(arrayProduct([5, 5, 5, 5]))       # Output: 625"
   ]
  },
  {
   "cell_type": "code",
   "execution_count": null,
   "metadata": {},
   "outputs": [],
   "source": []
  }
 ],
 "metadata": {
  "kernelspec": {
   "display_name": "base",
   "language": "python",
   "name": "python3"
  },
  "language_info": {
   "codemirror_mode": {
    "name": "ipython",
    "version": 3
   },
   "file_extension": ".py",
   "mimetype": "text/x-python",
   "name": "python",
   "nbconvert_exporter": "python",
   "pygments_lexer": "ipython3",
   "version": "3.9.7"
  }
 },
 "nbformat": 4,
 "nbformat_minor": 2
}
