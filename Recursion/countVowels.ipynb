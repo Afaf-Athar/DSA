{
 "cells": [
  {
   "cell_type": "markdown",
   "metadata": {},
   "source": [
    "##### countZeros"
   ]
  },
  {
   "cell_type": "code",
   "execution_count": 8,
   "metadata": {},
   "outputs": [],
   "source": [
    "def  countVowels(string):\n",
    "    memo = {}\n",
    "    \n",
    "    def countVowelsInString(string):\n",
    "        count = 0\n",
    "        if len(string) == 0:\n",
    "            return 0\n",
    "\n",
    "        if string in memo:\n",
    "            return memo[string]\n",
    "           \n",
    "        vowels = set(['a', 'e', 'i', 'o', 'u'])\n",
    "         \n",
    "        count = (1 if string[0].lower() in vowels else 0) + countVowelsInString(string[1:])\n",
    "\n",
    "    \n",
    "        return count\n",
    "\n",
    "    return countVowelsInString(string)"
   ]
  },
  {
   "cell_type": "code",
   "execution_count": 9,
   "metadata": {},
   "outputs": [
    {
     "data": {
      "text/plain": [
       "3"
      ]
     },
     "execution_count": 9,
     "metadata": {},
     "output_type": "execute_result"
    }
   ],
   "source": [
    "string = \"programming\"\n",
    "countVowels(string) #== 3"
   ]
  },
  {
   "cell_type": "code",
   "execution_count": 3,
   "metadata": {},
   "outputs": [],
   "source": [
    "# assert countVowels(\"programming\") == 3\n",
    "# assert countVowels(\"computer\") == 3\n",
    "# assert countVowels(\"xyz\") == 0\n",
    "# assert countVowels(\"aaaaaa\") == 6\n",
    "# assert countVowels(\"bcdfgh\") == 0\n",
    "# assert countVowels(\"artificial\") == 4\n",
    "# assert countVowels(\"intelligence\") == 5"
   ]
  },
  {
   "cell_type": "code",
   "execution_count": null,
   "metadata": {},
   "outputs": [],
   "source": []
  },
  {
   "cell_type": "code",
   "execution_count": null,
   "metadata": {},
   "outputs": [],
   "source": []
  }
 ],
 "metadata": {
  "kernelspec": {
   "display_name": "base",
   "language": "python",
   "name": "python3"
  },
  "language_info": {
   "codemirror_mode": {
    "name": "ipython",
    "version": 3
   },
   "file_extension": ".py",
   "mimetype": "text/x-python",
   "name": "python",
   "nbconvert_exporter": "python",
   "pygments_lexer": "ipython3",
   "version": "3.9.7"
  }
 },
 "nbformat": 4,
 "nbformat_minor": 2
}
