{
 "cells": [
  {
   "cell_type": "markdown",
   "metadata": {},
   "source": [
    "## Given a list if integers, find the max number from the list"
   ]
  },
  {
   "cell_type": "code",
   "execution_count": 1,
   "metadata": {},
   "outputs": [],
   "source": [
    "\n",
    "def large_wo_inbuiltfunction(list_large):\n",
    "    max_num = list_large[0]\n",
    "    for i in  list_large:\n",
    "        if max_num < i:\n",
    "            max_num = i\n",
    "\n",
    "    return max_num"
   ]
  },
  {
   "cell_type": "code",
   "execution_count": 2,
   "metadata": {},
   "outputs": [],
   "source": [
    "def large_w_inbuiltfunction(list_large):\n",
    "    list_large.sort(reverse=False)\n",
    "    max_num = list_large[-1]\n",
    "\n",
    "    return max_num"
   ]
  },
  {
   "cell_type": "code",
   "execution_count": 3,
   "metadata": {},
   "outputs": [
    {
     "data": {
      "text/plain": [
       "(-4, -4)"
      ]
     },
     "execution_count": 3,
     "metadata": {},
     "output_type": "execute_result"
    }
   ],
   "source": [
    "# list_large = [10,20,4]\n",
    "# list_large = [10,20,20,4]\n",
    "list_large = [-10,-20,-20,-4]\n",
    "large_wo_inbuiltfunction = large_wo_inbuiltfunction(list_large)\n",
    "large_w_inbuiltfunction = large_w_inbuiltfunction(list_large)\n",
    "large_wo_inbuiltfunction,large_w_inbuiltfunction\n"
   ]
  },
  {
   "cell_type": "code",
   "execution_count": null,
   "metadata": {},
   "outputs": [],
   "source": []
  }
 ],
 "metadata": {
  "kernelspec": {
   "display_name": "base",
   "language": "python",
   "name": "python3"
  },
  "language_info": {
   "codemirror_mode": {
    "name": "ipython",
    "version": 3
   },
   "file_extension": ".py",
   "mimetype": "text/x-python",
   "name": "python",
   "nbconvert_exporter": "python",
   "pygments_lexer": "ipython3",
   "version": "3.9.7"
  }
 },
 "nbformat": 4,
 "nbformat_minor": 2
}
