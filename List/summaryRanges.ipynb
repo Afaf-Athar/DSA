{
 "cells": [
  {
   "cell_type": "markdown",
   "metadata": {},
   "source": [
    "#### singleNumber"
   ]
  },
  {
   "cell_type": "code",
   "execution_count": 188,
   "metadata": {},
   "outputs": [
    {
     "data": {
      "text/plain": [
       "['0', '2->4', '6', '8->9']"
      ]
     },
     "execution_count": 188,
     "metadata": {},
     "output_type": "execute_result"
    }
   ],
   "source": [
    "# 0, 99\n",
    "# [0,1,3,50,75]\n",
    "def summaryRanges(nums):\n",
    "\n",
    "    if len(nums)==0:\n",
    "            return nums\n",
    "        \n",
    "    missing_ranges = []\n",
    "    start = nums[0]\n",
    "    size = len(nums)-1\n",
    "    i = 0\n",
    "    j = 1\n",
    "\n",
    "        \n",
    "    while(j<=size):\n",
    "    \n",
    "        \n",
    "        diff = abs(nums[i] - nums[j])\n",
    "        # print(diff)\n",
    "        if(diff>1):\n",
    "            if ((start == nums[i])):\n",
    "                missing_ranges.append(f\"{start}\")\n",
    "                \n",
    "            else:\n",
    "                missing_ranges.append(f\"{start}->{nums[i]}\")\n",
    "            start = nums[i+1]\n",
    "        i = i+1\n",
    "        j = j+1\n",
    "        \n",
    "    if ( start != nums[size]):\n",
    "        missing_ranges.append(f\"{start}->{nums[size]}\")\n",
    "    else:\n",
    "        missing_ranges.append(f\"{nums[size]}\")\n",
    "    \n",
    "    return missing_ranges\n",
    "    \n",
    "        \n",
    "\n",
    "                    \n",
    "\n",
    "    \n",
    "# nums = [0,1,2,4,5,7]\n",
    "nums = [0,2,3,4,6,8,9]\n",
    "# nums = []\n",
    "summaryRanges = summaryRanges(nums)\n",
    "summaryRanges\n",
    "        "
   ]
  },
  {
   "cell_type": "code",
   "execution_count": 129,
   "metadata": {},
   "outputs": [],
   "source": [
    "# # nums = [0,1,2,4,5,7]\n",
    "# nums = [0,2,3,4,6,8,9]\n",
    "# # nums = []\n",
    "# summaryRanges = summaryRanges(nums)\n",
    "# summaryRanges"
   ]
  },
  {
   "cell_type": "code",
   "execution_count": null,
   "metadata": {},
   "outputs": [],
   "source": []
  },
  {
   "cell_type": "code",
   "execution_count": null,
   "metadata": {},
   "outputs": [],
   "source": []
  }
 ],
 "metadata": {
  "kernelspec": {
   "display_name": "base",
   "language": "python",
   "name": "python3"
  },
  "language_info": {
   "codemirror_mode": {
    "name": "ipython",
    "version": 3
   },
   "file_extension": ".py",
   "mimetype": "text/x-python",
   "name": "python",
   "nbconvert_exporter": "python",
   "pygments_lexer": "ipython3",
   "version": "3.9.7"
  }
 },
 "nbformat": 4,
 "nbformat_minor": 2
}
