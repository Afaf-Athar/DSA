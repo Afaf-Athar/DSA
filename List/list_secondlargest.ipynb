{
 "cells": [
  {
   "cell_type": "markdown",
   "metadata": {},
   "source": [
    "## Given a list if integers, find the second largest number from the list"
   ]
  },
  {
   "cell_type": "code",
   "execution_count": 116,
   "metadata": {},
   "outputs": [],
   "source": [
    "\n",
    "def secondlarge_wo_inbuiltfunction(list_large):\n",
    "    max_num = list_large[0]\n",
    "    for i in  list_large:\n",
    "        if max_num < i:\n",
    "            sec_large = max_num\n",
    "            max_num = i\n",
    "        \n",
    "\n",
    "    return sec_large\n"
   ]
  },
  {
   "cell_type": "code",
   "execution_count": 117,
   "metadata": {},
   "outputs": [
    {
     "data": {
      "text/plain": [
       "5"
      ]
     },
     "execution_count": 117,
     "metadata": {},
     "output_type": "execute_result"
    }
   ],
   "source": [
    "# list_large = [10,20,4]\n",
    "# list_large = [10,20,20,4]\n",
    "# list_large = [-10,-20,-20,-4]\n",
    "list_large = [4,3,1,5,6]\n",
    "secondlarge_wo_inbuiltfunction = secondlarge_wo_inbuiltfunction(list_large)\n",
    "secondlarge_wo_inbuiltfunction\n"
   ]
  }
 ],
 "metadata": {
  "kernelspec": {
   "display_name": "base",
   "language": "python",
   "name": "python3"
  },
  "language_info": {
   "codemirror_mode": {
    "name": "ipython",
    "version": 3
   },
   "file_extension": ".py",
   "mimetype": "text/x-python",
   "name": "python",
   "nbconvert_exporter": "python",
   "pygments_lexer": "ipython3",
   "version": "3.9.7"
  }
 },
 "nbformat": 4,
 "nbformat_minor": 2
}
