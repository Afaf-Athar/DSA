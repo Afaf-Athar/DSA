{
 "cells": [
  {
   "cell_type": "markdown",
   "metadata": {},
   "source": [
    "#### intersection"
   ]
  },
  {
   "cell_type": "code",
   "execution_count": 68,
   "metadata": {},
   "outputs": [],
   "source": [
    "from collections import Counter\n",
    "def intersect(nums1,nums2):\n",
    "    \n",
    "    intersection = []\n",
    "\n",
    "    count = Counter(nums1)\n",
    "    print(count)\n",
    "    for nums in nums2:\n",
    "        if nums in count and count[nums]>0:\n",
    "            intersection.append(nums)\n",
    "\n",
    "            count[nums] -=1\n",
    "    return intersection\n",
    "\n",
    "\n",
    "\n"
   ]
  },
  {
   "cell_type": "code",
   "execution_count": 69,
   "metadata": {},
   "outputs": [
    {
     "name": "stdout",
     "output_type": "stream",
     "text": [
      "Counter({1: 1, 2: 1})\n"
     ]
    },
    {
     "data": {
      "text/plain": [
       "[1]"
      ]
     },
     "execution_count": 69,
     "metadata": {},
     "output_type": "execute_result"
    }
   ],
   "source": [
    "# nums1 = [1,2,2,1]\n",
    "# nums2 = [2,2,2,2]\n",
    "# nums1 = [4,9,5]\n",
    "# nums2 = [9,4,9,8,4]\n",
    "# nums1 = [1,2,2,1]\n",
    "# nums2 = [2]\n",
    "# nums1 = [1,2,2,1]\n",
    "# nums2 = [1,2]\n",
    "nums1 = [1,2]\n",
    "nums2 = [1,1]\n",
    "# nums2 = [1,2]\n",
    "# nums1 = [1,1]\n",
    "intersect = intersect(nums1,nums2)\n",
    "intersect"
   ]
  },
  {
   "cell_type": "code",
   "execution_count": null,
   "metadata": {},
   "outputs": [],
   "source": []
  },
  {
   "cell_type": "code",
   "execution_count": null,
   "metadata": {},
   "outputs": [],
   "source": []
  },
  {
   "cell_type": "code",
   "execution_count": null,
   "metadata": {},
   "outputs": [],
   "source": []
  }
 ],
 "metadata": {
  "kernelspec": {
   "display_name": "base",
   "language": "python",
   "name": "python3"
  },
  "language_info": {
   "codemirror_mode": {
    "name": "ipython",
    "version": 3
   },
   "file_extension": ".py",
   "mimetype": "text/x-python",
   "name": "python",
   "nbconvert_exporter": "python",
   "pygments_lexer": "ipython3",
   "version": "3.9.7"
  }
 },
 "nbformat": 4,
 "nbformat_minor": 2
}
