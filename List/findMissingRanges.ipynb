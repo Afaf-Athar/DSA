{
 "cells": [
  {
   "cell_type": "markdown",
   "metadata": {},
   "source": [
    "#### singleNumber"
   ]
  },
  {
   "cell_type": "code",
   "execution_count": 5,
   "metadata": {},
   "outputs": [],
   "source": [
    "# 0, 99\n",
    "# [0,1,3,50,75]\n",
    "def findMissingRanges(nums,lower,upper):\n",
    "    nums_pointer = 0\n",
    "    # op_range_start = -1 if nums[nums_pointer] != lower else nums[nums_pointer]\n",
    "    op_range_start = -1\n",
    "\n",
    "    output = []\n",
    "\n",
    "    i = lower\n",
    "    while i <= uspper:\n",
    "        if nums[nums_pointer] != i:\n",
    "            op_range_start = i\n",
    "            nums_pointer += 1\n",
    "            if nums_pointer >= len(nums):\n",
    "                break\n",
    "            while nums[nums_pointer] != i and i <= upper:\n",
    "                i += 1\n",
    "                if nums[nums_pointer] == i:\n",
    "                    output.append([op_range_start, i-1])\n",
    "                    op_range_start = -1\n",
    "                    break\n",
    "        i += 1\n",
    "\n",
    "    if op_range_start != -1:\n",
    "        output.append([op_range_start, upper])\n",
    "    \n",
    "    return output\n",
    "                    \n",
    "\n",
    "       \n",
    "nums = [0,1,3,50,75]\n",
    "lower = 0\n",
    "upper = 99\n",
    "\n",
    "# nums = []\n",
    "# lower = 1\n",
    "# upper = 1\n",
    "\n",
    "findMissingRanges = findMissingRanges(nums,lower,upper)\n",
    "findMissingRanges\n",
    "\n",
    "        "
   ]
  },
  {
   "cell_type": "code",
   "execution_count": 11,
   "metadata": {},
   "outputs": [
    {
     "name": "stdout",
     "output_type": "stream",
     "text": [
      "[-1, 0, 1, 3, 50, 75, 100]\n"
     ]
    },
    {
     "data": {
      "text/plain": [
       "[[2, 2], [4, 49], [51, 74], [76, 99]]"
      ]
     },
     "execution_count": 11,
     "metadata": {},
     "output_type": "execute_result"
    }
   ],
   "source": [
    "def findMissingRanges(nums,lower,upper):\n",
    "\n",
    "\n",
    "        nums = [lower - 1] + nums + [upper + 1]\n",
    "        print(nums)\n",
    "        missing_ranges = []\n",
    "        \n",
    "        for i in range(1, len(nums)):\n",
    "            if nums[i] > nums[i-1] + 1:\n",
    "                missing_ranges.append([nums[i-1] + 1, nums[i] - 1])\n",
    "        return missing_ranges\n",
    "\n",
    "nums = [0,1,3,50,75]\n",
    "lower = 0\n",
    "upper = 99\n",
    "\n",
    "findMissingRanges = findMissingRanges(nums,lower,upper)\n",
    "findMissingRanges\n"
   ]
  },
  {
   "cell_type": "code",
   "execution_count": null,
   "metadata": {},
   "outputs": [],
   "source": [
    "nums = [0,1,3,50,75]\n",
    "lower = 0\n",
    "upper = 99\n",
    "\n",
    "findMissingRanges = findMissingRanges(nums,lower,upper)\n",
    "findMissingRanges"
   ]
  },
  {
   "cell_type": "code",
   "execution_count": null,
   "metadata": {},
   "outputs": [],
   "source": []
  }
 ],
 "metadata": {
  "kernelspec": {
   "display_name": "base",
   "language": "python",
   "name": "python3"
  },
  "language_info": {
   "codemirror_mode": {
    "name": "ipython",
    "version": 3
   },
   "file_extension": ".py",
   "mimetype": "text/x-python",
   "name": "python",
   "nbconvert_exporter": "python",
   "pygments_lexer": "ipython3",
   "version": "3.9.7"
  }
 },
 "nbformat": 4,
 "nbformat_minor": 2
}
