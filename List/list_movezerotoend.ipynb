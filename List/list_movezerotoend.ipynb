{
 "cells": [
  {
   "cell_type": "markdown",
   "metadata": {},
   "source": [
    "## Given a list of numbers, move all the zeros to one"
   ]
  },
  {
   "cell_type": "code",
   "execution_count": 242,
   "metadata": {},
   "outputs": [],
   "source": [
    "\n",
    "# def zeros_to_end(nums):\n",
    "    # num = 0\n",
    "    # for i in range(0,len(nums)):\n",
    "    #     # print(i)\n",
    "    #     if nums[i] == num:\n",
    "    #         print(i)\n",
    "    #         nums.pop(nums[i])\n",
    "    #         nums.append(0)\n",
    "            \n",
    "    \n",
    "    # return nums\n"
   ]
  },
  {
   "cell_type": "code",
   "execution_count": 243,
   "metadata": {},
   "outputs": [],
   "source": [
    "# nums = [4,0,3,1,0,5,6]\n",
    "# # nums=[0,0,1]\n",
    "\n",
    "# zeros_to_end = zeros_to_end(nums)\n",
    "# zeros_to_end"
   ]
  },
  {
   "cell_type": "code",
   "execution_count": 244,
   "metadata": {},
   "outputs": [
    {
     "data": {
      "text/plain": [
       "[4, 3, 1, 5, 6, 0, 0]"
      ]
     },
     "execution_count": 244,
     "metadata": {},
     "output_type": "execute_result"
    }
   ],
   "source": [
    "def zeros_to_end(nums):\n",
    "    i = 0\n",
    "    j = len(nums)-1\n",
    "    while(i<=j):\n",
    "        if nums[i] == 0:\n",
    "            temp = nums[i]\n",
    "            while(i<j):\n",
    "                nums[i] = nums[i+1]    \n",
    "                i = i+1\n",
    "             \n",
    "            nums[j] = temp\n",
    "            j = j-1\n",
    "            i = (j+1)-i\n",
    "            \n",
    "        else:\n",
    "     \n",
    "            i = i+1\n",
    "        \n",
    "    return nums\n",
    "\n",
    "nums = [4,0,3,1,0,5,6]\n",
    "# nums=[0,0,1]\n",
    "# nums = [0,1,0,3,12]\n",
    "zeros_to_end = zeros_to_end(nums)\n",
    "zeros_to_end"
   ]
  },
  {
   "cell_type": "code",
   "execution_count": 246,
   "metadata": {},
   "outputs": [],
   "source": [
    "# nums = [4,0,3,1,0,5,6]\n",
    "# nums=[0,0,1]\n",
    "\n",
    "# zeros_to_end = zeros_to_end(nums)\n",
    "# zeros_to_end"
   ]
  },
  {
   "cell_type": "code",
   "execution_count": null,
   "metadata": {},
   "outputs": [],
   "source": []
  },
  {
   "cell_type": "code",
   "execution_count": null,
   "metadata": {},
   "outputs": [],
   "source": []
  }
 ],
 "metadata": {
  "kernelspec": {
   "display_name": "base",
   "language": "python",
   "name": "python3"
  },
  "language_info": {
   "codemirror_mode": {
    "name": "ipython",
    "version": 3
   },
   "file_extension": ".py",
   "mimetype": "text/x-python",
   "name": "python",
   "nbconvert_exporter": "python",
   "pygments_lexer": "ipython3",
   "version": "3.9.7"
  }
 },
 "nbformat": 4,
 "nbformat_minor": 2
}
