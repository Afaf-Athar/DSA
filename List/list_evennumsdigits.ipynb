{
 "cells": [
  {
   "cell_type": "markdown",
   "metadata": {},
   "source": [
    "## Find Numbers with Even Number of Digits"
   ]
  },
  {
   "cell_type": "code",
   "execution_count": 127,
   "metadata": {},
   "outputs": [],
   "source": [
    "\n",
    "def findNumbers(nums):\n",
    "    even_list = []\n",
    "    \n",
    "    for each in nums:\n",
    "        count = 0\n",
    "        while(each!=0):\n",
    "            each = each // 10\n",
    "            count = count +1\n",
    "\n",
    "        if count % 2 == 0:\n",
    "            even_list.append(each)\n",
    "        # print(l)\n",
    "    return len(even_list)\n",
    "            "
   ]
  },
  {
   "cell_type": "code",
   "execution_count": 128,
   "metadata": {},
   "outputs": [
    {
     "data": {
      "text/plain": [
       "2"
      ]
     },
     "execution_count": 128,
     "metadata": {},
     "output_type": "execute_result"
    }
   ],
   "source": [
    "# nums = [555,901,482,1771]\n",
    "nums = [12,345,2,6,7896]\n",
    "findNumbers = findNumbers(nums)\n",
    "findNumbers"
   ]
  }
 ],
 "metadata": {
  "kernelspec": {
   "display_name": "base",
   "language": "python",
   "name": "python3"
  },
  "language_info": {
   "codemirror_mode": {
    "name": "ipython",
    "version": 3
   },
   "file_extension": ".py",
   "mimetype": "text/x-python",
   "name": "python",
   "nbconvert_exporter": "python",
   "pygments_lexer": "ipython3",
   "version": "3.9.7"
  }
 },
 "nbformat": 4,
 "nbformat_minor": 2
}
