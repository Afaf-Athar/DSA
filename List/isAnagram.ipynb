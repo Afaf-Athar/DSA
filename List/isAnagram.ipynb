{
 "cells": [
  {
   "cell_type": "markdown",
   "metadata": {},
   "source": [
    "### Anangram"
   ]
  },
  {
   "cell_type": "code",
   "execution_count": 1,
   "metadata": {},
   "outputs": [],
   "source": [
    "def isAnagram(s,t):\n",
    "\n",
    "    if (len(s)!=len(t)):\n",
    "        return False\n",
    "    \n",
    "    l = []\n",
    "    for each in s:\n",
    "        l.append(each)\n",
    "    \n",
    "    for i in range(len(t)):\n",
    "        try:\n",
    "            l.remove(t[i])\n",
    "        except Exception as e:\n",
    "            return False\n",
    "\n",
    "    return True\n",
    "\n",
    "\n",
    "\n"
   ]
  },
  {
   "cell_type": "code",
   "execution_count": 2,
   "metadata": {},
   "outputs": [],
   "source": [
    "def isAnagram(s,t):\n",
    "\n",
    "    # if (len(s)!=len(t)):\n",
    "    #     return False\n",
    "    \n",
    "    sum_s = 0\n",
    "    sum_t = 0\n",
    "    for each in s:\n",
    "        sum_s += ord(each)\n",
    "    \n",
    "    for ele in t:\n",
    "        sum_t += ord(ele)\n",
    "\n",
    "    print(sum_s,sum_t)\n",
    "\n",
    "    if (sum_s==sum_t):\n",
    "        return True\n",
    "    else:\n",
    "        return False\n",
    "\n",
    "    # return True\n",
    "\n"
   ]
  },
  {
   "cell_type": "code",
   "execution_count": 3,
   "metadata": {},
   "outputs": [
    {
     "name": "stdout",
     "output_type": "stream",
     "text": [
      "203 203\n"
     ]
    },
    {
     "data": {
      "text/plain": [
       "True"
      ]
     },
     "execution_count": 3,
     "metadata": {},
     "output_type": "execute_result"
    }
   ],
   "source": [
    "# s = \"jar\"\n",
    "# t = \"jam\"\n",
    "# s = \"racecar\"\n",
    "# t = \"carrace\"\n",
    "s = \"fe\"\n",
    "t = \"ja\"\n",
    "isAnagram = isAnagram(s,t)\n",
    "isAnagram"
   ]
  },
  {
   "cell_type": "code",
   "execution_count": 6,
   "metadata": {},
   "outputs": [],
   "source": [
    "\n",
    "def topKFrequent(nums, k):\n",
    "\n",
    "    dic = {}\n",
    "    count = 0\n",
    "    for ele in nums:\n",
    "        if ele in dic:\n",
    "            dic[ele] = count + 1\n",
    "        dic[ele] = count + 1\n",
    "    print(dic)\n",
    "        \n",
    "\n",
    "    top_ele = []\n",
    "\n",
    "    for key, value in dic.items():\n",
    "        print(key, \"->\", value)\n",
    "        if (value >= k):\n",
    "            top_ele.append(key)\n",
    "    return top_ele\n",
    "    "
   ]
  },
  {
   "cell_type": "code",
   "execution_count": 7,
   "metadata": {},
   "outputs": [
    {
     "name": "stdout",
     "output_type": "stream",
     "text": [
      "{1: 1, 2: 1, 3: 1}\n",
      "1 -> 1\n",
      "2 -> 1\n",
      "3 -> 1\n"
     ]
    },
    {
     "data": {
      "text/plain": [
       "[]"
      ]
     },
     "execution_count": 7,
     "metadata": {},
     "output_type": "execute_result"
    }
   ],
   "source": [
    "nums = [1,2,2,3,3,3]\n",
    "k = 2\n",
    "\n",
    "topKFrequent = topKFrequent(nums,k)\n",
    "topKFrequent"
   ]
  },
  {
   "cell_type": "code",
   "execution_count": null,
   "metadata": {},
   "outputs": [],
   "source": []
  },
  {
   "cell_type": "code",
   "execution_count": null,
   "metadata": {},
   "outputs": [],
   "source": []
  }
 ],
 "metadata": {
  "kernelspec": {
   "display_name": "base",
   "language": "python",
   "name": "python3"
  },
  "language_info": {
   "codemirror_mode": {
    "name": "ipython",
    "version": 3
   },
   "file_extension": ".py",
   "mimetype": "text/x-python",
   "name": "python",
   "nbconvert_exporter": "python",
   "pygments_lexer": "ipython3",
   "version": "3.9.7"
  }
 },
 "nbformat": 4,
 "nbformat_minor": 2
}
