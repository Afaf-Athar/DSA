{
 "cells": [
  {
   "cell_type": "markdown",
   "metadata": {},
   "source": [
    "#### canAttendMeetings"
   ]
  },
  {
   "cell_type": "code",
   "execution_count": 265,
   "metadata": {},
   "outputs": [
    {
     "name": "stdout",
     "output_type": "stream",
     "text": [
      "1\n"
     ]
    },
    {
     "data": {
      "text/plain": [
       "True"
      ]
     },
     "execution_count": 265,
     "metadata": {},
     "output_type": "execute_result"
    }
   ],
   "source": [
    "def canAttendMeetings(intervals):\n",
    "    \n",
    "    start = 0\n",
    "    end = 1\n",
    "    i = 0\n",
    "    j = 1\n",
    "    size = len(intervals)-1\n",
    "\n",
    "    print(size)\n",
    "    if (size==-1 or size == 0):\n",
    "        return True\n",
    "    \n",
    "    intervals.sort()\n",
    "    while(j<=size):\n",
    "        \n",
    "        first = intervals[i]\n",
    "        second = intervals[j]\n",
    "        \n",
    "        if(first[end]<=second[start]):\n",
    "            j =j+1\n",
    "            i= i+1\n",
    "        else:\n",
    "            return False\n",
    "    return True\n",
    "\n",
    "\n",
    "\n",
    "    \n",
    "intervals = [[7,10],[2,4]]\n",
    "\n",
    "canAttendMeetings = canAttendMeetings(intervals)\n",
    "canAttendMeetings"
   ]
  },
  {
   "cell_type": "code",
   "execution_count": 200,
   "metadata": {},
   "outputs": [
    {
     "name": "stdout",
     "output_type": "stream",
     "text": [
      "2\n"
     ]
    },
    {
     "data": {
      "text/plain": [
       "True"
      ]
     },
     "execution_count": 200,
     "metadata": {},
     "output_type": "execute_result"
    }
   ],
   "source": [
    "# intervals = [[0,30],[5,10],[15,20]]\n",
    "# false\n",
    "# intervals = [[7,10],[2,4]]\n",
    "# true\n",
    "# intervals = []\n",
    "# true\n",
    "# intervals = [[2,4]]\n",
    "#true\n",
    "# intervals = [[5,8],[6,8]]\n",
    "#false\n",
    "intervals = [[6,15],[13,20],[6,17]]\n",
    "# false\n",
    "# intervals = [[1,5],[8,9]]\n",
    "# true\n",
    "\n",
    "canAttendMeetings = canAttendMeetings(intervals)\n",
    "canAttendMeetings"
   ]
  },
  {
   "cell_type": "code",
   "execution_count": 264,
   "metadata": {},
   "outputs": [
    {
     "name": "stdout",
     "output_type": "stream",
     "text": [
      "1\n"
     ]
    },
    {
     "data": {
      "text/plain": [
       "False"
      ]
     },
     "execution_count": 264,
     "metadata": {},
     "output_type": "execute_result"
    }
   ],
   "source": [
    "# def canAttendMeetings(intervals):\n",
    "    \n",
    "#     start = 0\n",
    "#     end = 1\n",
    "#     i = 0\n",
    "#     j = 1\n",
    "#     size = len(intervals)-1\n",
    "\n",
    "#     print(size)\n",
    "#     if (size==-1 or size == 0):\n",
    "#         return True\n",
    "    \n",
    "#     while(j<=size):\n",
    "        \n",
    "#         first = intervals[i]\n",
    "#         second = intervals[j]\n",
    "#         if((first[start]<=second[start]) or (first[end]==second[end])):\n",
    "#             return False\n",
    "#         while(j<size):\n",
    "#             if (first[end]>=second[end]):\n",
    "#                 return True\n",
    "#             j = j+1\n",
    "#             return False\n",
    "#         i = i+1\n",
    "\n",
    "#         return True\n",
    "        \n",
    "\n",
    "\n",
    "    \n",
    "# intervals = [[5,8],[6,8]]\n",
    "\n",
    "# canAttendMeetings = canAttendMeetings(intervals)\n",
    "# canAttendMeetings"
   ]
  },
  {
   "cell_type": "code",
   "execution_count": null,
   "metadata": {},
   "outputs": [],
   "source": [
    "# intervals = [[0,30],[5,10],[15,20]]\n",
    "# false\n",
    "# intervals = [[7,10],[2,4]]\n",
    "# true\n",
    "# intervals = []\n",
    "# true\n",
    "# intervals = [[2,4]]\n",
    "#true\n",
    "# intervals = [[5,8],[6,8]]\n",
    "#false\n",
    "intervals = [[6,15],[13,20],[6,17]]\n",
    "# false\n",
    "# intervals = [[1,5],[8,9]]\n",
    "# true\n",
    "\n",
    "canAttendMeetings = canAttendMeetings(intervals)\n",
    "canAttendMeetings"
   ]
  }
 ],
 "metadata": {
  "kernelspec": {
   "display_name": "base",
   "language": "python",
   "name": "python3"
  },
  "language_info": {
   "codemirror_mode": {
    "name": "ipython",
    "version": 3
   },
   "file_extension": ".py",
   "mimetype": "text/x-python",
   "name": "python",
   "nbconvert_exporter": "python",
   "pygments_lexer": "ipython3",
   "version": "3.9.7"
  }
 },
 "nbformat": 4,
 "nbformat_minor": 2
}
