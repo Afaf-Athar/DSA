{
 "cells": [
  {
   "cell_type": "markdown",
   "metadata": {},
   "source": [
    "## findKthLargest"
   ]
  },
  {
   "cell_type": "code",
   "execution_count": 109,
   "metadata": {},
   "outputs": [],
   "source": [
    "def thirdMax(nums,k):\n",
    "    \n",
    "    nums1 = list(set(nums))\n",
    "    negatives = sorted([n for n in nums1 if n < 0])\n",
    "    positives = sorted([n for n in nums1 if n >= 0])\n",
    "    result = negatives + positives\n",
    "    # print(result)\n",
    "\n",
    "    if (len(result)<3):\n",
    "        maxi = max(result)\n",
    "        return maxi\n",
    "    \n",
    "    \n",
    "    size = len(result)\n",
    "    k = 3\n",
    "    n = (size - k)\n",
    "    # print(n)\n",
    "    \n",
    "    \n",
    "    for i in range(0,len(result)):\n",
    "        # print(i,n)\n",
    "        if i == n:\n",
    "            return result[i]\n",
    "    \n",
    "\n",
    "\n",
    "\n"
   ]
  },
  {
   "cell_type": "code",
   "execution_count": 110,
   "metadata": {},
   "outputs": [
    {
     "name": "stdout",
     "output_type": "stream",
     "text": [
      "[1, 2, 3]\n"
     ]
    },
    {
     "data": {
      "text/plain": [
       "1"
      ]
     },
     "execution_count": 110,
     "metadata": {},
     "output_type": "execute_result"
    }
   ],
   "source": [
    "nums = [2,2,3,1]\n",
    "# nums = [3,2,1]\n",
    "# nums = [1,2]\n",
    "# nums = [-1,2,3]\n",
    "k = 3\n",
    "\n",
    "thirdMax = thirdMax(nums,k)\n",
    "thirdMax"
   ]
  },
  {
   "cell_type": "code",
   "execution_count": null,
   "metadata": {},
   "outputs": [],
   "source": []
  },
  {
   "cell_type": "code",
   "execution_count": null,
   "metadata": {},
   "outputs": [],
   "source": []
  }
 ],
 "metadata": {
  "kernelspec": {
   "display_name": "base",
   "language": "python",
   "name": "python3"
  },
  "language_info": {
   "codemirror_mode": {
    "name": "ipython",
    "version": 3
   },
   "file_extension": ".py",
   "mimetype": "text/x-python",
   "name": "python",
   "nbconvert_exporter": "python",
   "pygments_lexer": "ipython3",
   "version": "3.9.7"
  }
 },
 "nbformat": 4,
 "nbformat_minor": 2
}
