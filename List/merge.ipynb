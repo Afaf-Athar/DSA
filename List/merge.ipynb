{
 "cells": [
  {
   "cell_type": "markdown",
   "metadata": {},
   "source": [
    "#### merge : You are given two integer arrays nums1 and nums2, sorted in non-decreasing order, and two integers m and n, representing the number of elements in nums1 and nums2 respectively.\n",
    "\n",
    "#### Merge nums1 and nums2 into a single array sorted in non-decreasing order.\n",
    "\n"
   ]
  },
  {
   "cell_type": "code",
   "execution_count": 109,
   "metadata": {},
   "outputs": [],
   "source": [
    "def merge(nums1,nums2,m,n):\n",
    "    i = m - 1\n",
    "    j = n - 1\n",
    "    k = m+n -1\n",
    "\n",
    "\n",
    "    while(i>-1 and j>-1):\n",
    "        if (nums1[i]>=nums2[j]):\n",
    "            nums1[k] = nums1[i]\n",
    "            k -= 1\n",
    "            i -= 1\n",
    "        else:\n",
    "            nums1[k] = nums2[j]\n",
    "            k -= 1\n",
    "            j -= 1\n",
    "\n",
    "    while(j<-1 or i >=0):\n",
    "        nums1[k] = nums1[i]\n",
    "        k -= 1\n",
    "        i -= 1\n",
    "        \n",
    "        \n",
    "    while(i<-1 or j>=0):\n",
    "        nums1[k] = nums2[j]\n",
    "        k -= 1\n",
    "        j -= 1\n",
    "     \n",
    "    return nums1    \n"
   ]
  },
  {
   "cell_type": "code",
   "execution_count": 110,
   "metadata": {},
   "outputs": [
    {
     "data": {
      "text/plain": [
       "[1, 2, 3, 4, 5, 6]"
      ]
     },
     "execution_count": 110,
     "metadata": {},
     "output_type": "execute_result"
    }
   ],
   "source": [
    "# nums1 = [1,2,3,0,0,0]\n",
    "# nums2 = [2,5,6]\n",
    "# m = 3\n",
    "# n = 3\n",
    "\n",
    "\n",
    "# nums1 = [1]\n",
    "# nums2 = []\n",
    "# m = 1\n",
    "# n = 0\n",
    "\n",
    "# nums1 = [0]\n",
    "# nums2 = [1]\n",
    "# m = 0\n",
    "# n = 1\n",
    "\n",
    "# nums1 = [1,2,3,0,0,0]\n",
    "# nums2 = [1,2,3]\n",
    "# m = 3\n",
    "# n = 3\n",
    "\n",
    "nums1 = [4,5,6,0,0,0]\n",
    "nums2 = [1,2,3]\n",
    "m = 3\n",
    "n = 3\n",
    "\n",
    "merge = merge(nums1,nums2,m,n)\n",
    "merge"
   ]
  },
  {
   "cell_type": "code",
   "execution_count": null,
   "metadata": {},
   "outputs": [],
   "source": []
  },
  {
   "cell_type": "code",
   "execution_count": null,
   "metadata": {},
   "outputs": [],
   "source": []
  }
 ],
 "metadata": {
  "kernelspec": {
   "display_name": "base",
   "language": "python",
   "name": "python3"
  },
  "language_info": {
   "codemirror_mode": {
    "name": "ipython",
    "version": 3
   },
   "file_extension": ".py",
   "mimetype": "text/x-python",
   "name": "python",
   "nbconvert_exporter": "python",
   "pygments_lexer": "ipython3",
   "version": "3.9.7"
  }
 },
 "nbformat": 4,
 "nbformat_minor": 2
}
