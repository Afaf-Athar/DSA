{
 "cells": [
  {
   "cell_type": "markdown",
   "metadata": {},
   "source": [
    "#### majorityElement"
   ]
  },
  {
   "cell_type": "code",
   "execution_count": 41,
   "metadata": {},
   "outputs": [],
   "source": [
    "def containsDuplicate(nums):\n",
    "\n",
    "\n",
    "    seen = {}\n",
    "\n",
    "    for i in nums:\n",
    "        if i in seen:\n",
    "            seen[i] += 1\n",
    "        else:\n",
    "            seen[i] = 1\n",
    "\n",
    "    print(seen)\n",
    "\n",
    "    for key,value in seen.items():\n",
    "        # print(key,value)\n",
    "        if (value>1):\n",
    "\n",
    "            print(key,value)\n",
    "            return True\n",
    "\n",
    "    return False\n",
    "\n",
    "        \n",
    "        "
   ]
  },
  {
   "cell_type": "code",
   "execution_count": 42,
   "metadata": {},
   "outputs": [
    {
     "name": "stdout",
     "output_type": "stream",
     "text": [
      "{1: 2, 2: 1, 3: 1}\n",
      "1 2\n"
     ]
    },
    {
     "data": {
      "text/plain": [
       "True"
      ]
     },
     "execution_count": 42,
     "metadata": {},
     "output_type": "execute_result"
    }
   ],
   "source": [
    "# nums = [2,2,1,1,1,2,2,3,3]\n",
    "# nums = [3,2,3]\n",
    "# nums = [2,2,1,1,1,2,2]\n",
    "# nums = [1,2,3,4]\n",
    "nums = [1,2,3,1]\n",
    "# nums =[2,14,18,22,22]\n",
    "\n",
    "\n",
    "containsDuplicate = containsDuplicate(nums)\n",
    "containsDuplicate"
   ]
  },
  {
   "cell_type": "code",
   "execution_count": null,
   "metadata": {},
   "outputs": [],
   "source": []
  }
 ],
 "metadata": {
  "kernelspec": {
   "display_name": "base",
   "language": "python",
   "name": "python3"
  },
  "language_info": {
   "codemirror_mode": {
    "name": "ipython",
    "version": 3
   },
   "file_extension": ".py",
   "mimetype": "text/x-python",
   "name": "python",
   "nbconvert_exporter": "python",
   "pygments_lexer": "ipython3",
   "version": "3.9.7"
  }
 },
 "nbformat": 4,
 "nbformat_minor": 2
}
