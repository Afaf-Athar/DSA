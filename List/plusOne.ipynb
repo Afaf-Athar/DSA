{
 "cells": [
  {
   "cell_type": "markdown",
   "metadata": {},
   "source": [
    "#### searchInsert : Given a sorted array of distinct integers and a target value, return the index if the target is found. If not, return the index where it would be if it were inserted in order.\n",
    "\n"
   ]
  },
  {
   "cell_type": "code",
   "execution_count": 60,
   "metadata": {},
   "outputs": [],
   "source": [
    "def plusOne(nums):\n",
    "    for i in nums:\n",
    "    \n",
    "        digit =  int(\"\".join(map(str, nums)))\n",
    "        plusOne = digit +1\n",
    "\n",
    "    nums_list = list(map(int, str(plusOne)))\n",
    "\n",
    "    # print(digit,plusOne)\n",
    "    # print(nums_list)\n",
    "    return nums_list\n",
    "\n",
    "  \n",
    "    \n"
   ]
  },
  {
   "cell_type": "code",
   "execution_count": 61,
   "metadata": {},
   "outputs": [
    {
     "data": {
      "text/plain": [
       "[1, 0]"
      ]
     },
     "execution_count": 61,
     "metadata": {},
     "output_type": "execute_result"
    }
   ],
   "source": [
    "# nums = [1,2,3]\n",
    "nums = [9]\n",
    "# o/p = [1,2,4]\n",
    "\n",
    "plusOne = plusOne(nums)\n",
    "plusOne"
   ]
  },
  {
   "cell_type": "code",
   "execution_count": 62,
   "metadata": {},
   "outputs": [],
   "source": [
    "def plusOne(nums):\n",
    "\n",
    "\n",
    "    st = \"\"\n",
    "    lis = []\n",
    "\n",
    "    for i in nums:\n",
    "        i = str(i)\n",
    "        st = st + i\n",
    "        int_num = int(st) +1\n",
    "        int_num = str(int_num)\n",
    "\n",
    "    \n",
    "    for i in int_num:\n",
    "        lis.append(int(i))\n",
    "\n",
    "    # print(st)\n",
    "    # print(int_num)\n",
    "    # print(lis)\n",
    "    return lis\n",
    "    \n"
   ]
  },
  {
   "cell_type": "code",
   "execution_count": 63,
   "metadata": {},
   "outputs": [
    {
     "data": {
      "text/plain": [
       "[1, 0]"
      ]
     },
     "execution_count": 63,
     "metadata": {},
     "output_type": "execute_result"
    }
   ],
   "source": [
    "# nums = [1,2,3]\n",
    "nums = [9]\n",
    "# o/p = [1,2,4]\n",
    "\n",
    "plusOne = plusOne(nums)\n",
    "plusOne"
   ]
  },
  {
   "cell_type": "code",
   "execution_count": null,
   "metadata": {},
   "outputs": [],
   "source": []
  },
  {
   "cell_type": "code",
   "execution_count": null,
   "metadata": {},
   "outputs": [],
   "source": []
  },
  {
   "cell_type": "code",
   "execution_count": null,
   "metadata": {},
   "outputs": [],
   "source": []
  }
 ],
 "metadata": {
  "kernelspec": {
   "display_name": "base",
   "language": "python",
   "name": "python3"
  },
  "language_info": {
   "codemirror_mode": {
    "name": "ipython",
    "version": 3
   },
   "file_extension": ".py",
   "mimetype": "text/x-python",
   "name": "python",
   "nbconvert_exporter": "python",
   "pygments_lexer": "ipython3",
   "version": "3.9.7"
  }
 },
 "nbformat": 4,
 "nbformat_minor": 2
}
