{
 "cells": [
  {
   "cell_type": "markdown",
   "metadata": {},
   "source": [
    "### Anangram"
   ]
  },
  {
   "cell_type": "code",
   "execution_count": 142,
   "metadata": {},
   "outputs": [
    {
     "data": {
      "text/plain": [
       "3"
      ]
     },
     "execution_count": 142,
     "metadata": {},
     "output_type": "execute_result"
    }
   ],
   "source": [
    "def shortestDistance(wordsDict,word1,word2):\n",
    "    i = 0\n",
    "    j = 0\n",
    "\n",
    "    size = len(wordsDict)\n",
    "    min_dis  = float(\"inf\")\n",
    "    while(i<=size-1):\n",
    "        if(wordsDict[i]==str(word1)):\n",
    "            idx_word1 = i\n",
    "            while(j<=size-1):\n",
    "                if(wordsDict[j]==str(word2)):\n",
    "                    idx_word2 = j\n",
    "                    diff = abs(idx_word2 - idx_word1)\n",
    "                    min_dis = min(min_dis,diff)\n",
    "                j = j+1      \n",
    "        i = i+1\n",
    "        j = 0\n",
    "            \n",
    "            \n",
    "    return min_dis\n",
    "\n",
    "\n",
    "\n"
   ]
  },
  {
   "cell_type": "code",
   "execution_count": null,
   "metadata": {},
   "outputs": [],
   "source": [
    "wordsDict = [\"practice\", \"makes\", \"perfect\", \"coding\", \"makes\"]\n",
    "word1 = \"coding\" \n",
    "word2 = \"practice\"\n",
    "\n",
    "# word1 = \"makes\"\n",
    "# word2 = \"coding\"\n",
    "shortestDistance = shortestDistance(wordsDict,word1,word2)\n",
    "shortestDistance\n",
    "\n"
   ]
  },
  {
   "cell_type": "code",
   "execution_count": null,
   "metadata": {},
   "outputs": [],
   "source": []
  },
  {
   "cell_type": "code",
   "execution_count": null,
   "metadata": {},
   "outputs": [],
   "source": []
  }
 ],
 "metadata": {
  "kernelspec": {
   "display_name": "base",
   "language": "python",
   "name": "python3"
  },
  "language_info": {
   "codemirror_mode": {
    "name": "ipython",
    "version": 3
   },
   "file_extension": ".py",
   "mimetype": "text/x-python",
   "name": "python",
   "nbconvert_exporter": "python",
   "pygments_lexer": "ipython3",
   "version": "3.9.7"
  }
 },
 "nbformat": 4,
 "nbformat_minor": 2
}
