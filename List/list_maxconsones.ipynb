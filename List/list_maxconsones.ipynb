{
 "cells": [
  {
   "cell_type": "markdown",
   "metadata": {},
   "source": [
    "## Max Consecutive Ones"
   ]
  },
  {
   "cell_type": "code",
   "execution_count": 125,
   "metadata": {},
   "outputs": [],
   "source": [
    "def findMaxConsecutiveOnes(nums):\n",
    "        count = 0\n",
    "        maxCount = 0\n",
    "        for i in nums: \n",
    "                if i == 1:\n",
    "                        count = count +1 #\n",
    "                        maxCount = max(count,maxCount) #1,0\n",
    "                else:\n",
    "                        count = 0\n",
    "\n",
    "        return maxCount"
   ]
  },
  {
   "cell_type": "code",
   "execution_count": 126,
   "metadata": {},
   "outputs": [
    {
     "data": {
      "text/plain": [
       "2"
      ]
     },
     "execution_count": 126,
     "metadata": {},
     "output_type": "execute_result"
    }
   ],
   "source": [
    "# nums =  [1,1,0,1,1,1]\n",
    "nums = [1,0,1,1,0,1]\n",
    "findMaxConsecutiveOnes = findMaxConsecutiveOnes(nums)\n",
    "findMaxConsecutiveOnes"
   ]
  },
  {
   "cell_type": "code",
   "execution_count": null,
   "metadata": {},
   "outputs": [],
   "source": []
  }
 ],
 "metadata": {
  "kernelspec": {
   "display_name": "base",
   "language": "python",
   "name": "python3"
  },
  "language_info": {
   "codemirror_mode": {
    "name": "ipython",
    "version": 3
   },
   "file_extension": ".py",
   "mimetype": "text/x-python",
   "name": "python",
   "nbconvert_exporter": "python",
   "pygments_lexer": "ipython3",
   "version": "3.9.7"
  }
 },
 "nbformat": 4,
 "nbformat_minor": 2
}
