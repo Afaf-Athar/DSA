{
 "cells": [
  {
   "cell_type": "markdown",
   "metadata": {},
   "source": [
    "## Given a list if integers,remove the duplicates in-place operation"
   ]
  },
  {
   "cell_type": "code",
   "execution_count": 30,
   "metadata": {},
   "outputs": [],
   "source": [
    "## With set \n",
    "def removeDuplicates(nums):\n",
    "    i = 0\n",
    "    j = i+1\n",
    "    while(j < (len(nums))):\n",
    "        if (nums[i]==nums[j]):\n",
    "            j = j+1\n",
    "        elif (nums[i] !=nums[j]):\n",
    "            i = i+1\n",
    "            nums[i] = nums[j]\n",
    "            j = j+1\n",
    "    print(nums)\n",
    "    k = i+1\n",
    "    return k\n",
    "  "
   ]
  },
  {
   "cell_type": "code",
   "execution_count": 31,
   "metadata": {},
   "outputs": [
    {
     "name": "stdout",
     "output_type": "stream",
     "text": [
      "[1, 2, 2]\n"
     ]
    },
    {
     "data": {
      "text/plain": [
       "2"
      ]
     },
     "execution_count": 31,
     "metadata": {},
     "output_type": "execute_result"
    }
   ],
   "source": [
    "# nums = [0,0,1,1,1,2,2,3,3,4]\n",
    "nums = [1,1,2]\n",
    "removeDuplicates = removeDuplicates(nums)\n",
    "removeDuplicates"
   ]
  },
  {
   "cell_type": "markdown",
   "metadata": {},
   "source": [
    "## Given a list if integers,remove the duplicates W/O in-place operation"
   ]
  },
  {
   "cell_type": "code",
   "execution_count": 26,
   "metadata": {},
   "outputs": [],
   "source": [
    "## With set \n",
    "def removeDuplicates(nums):\n",
    "    unique_ele = set()\n",
    "    for num in nums:\n",
    "        if num not in unique_ele:\n",
    "            unique_ele.add(num)\n",
    "    k = len(unique_ele)\n",
    "\n",
    "    return k, unique_ele"
   ]
  },
  {
   "cell_type": "code",
   "execution_count": null,
   "metadata": {},
   "outputs": [],
   "source": [
    "nums = [0,0,1,1,1,2,2,3,3,4]\n",
    "# nums = [1,1,2]\n",
    "removeDuplicates = removeDuplicates(nums)\n",
    "removeDuplicates"
   ]
  },
  {
   "cell_type": "code",
   "execution_count": null,
   "metadata": {},
   "outputs": [],
   "source": []
  },
  {
   "cell_type": "code",
   "execution_count": null,
   "metadata": {},
   "outputs": [],
   "source": []
  }
 ],
 "metadata": {
  "kernelspec": {
   "display_name": "base",
   "language": "python",
   "name": "python3"
  },
  "language_info": {
   "codemirror_mode": {
    "name": "ipython",
    "version": 3
   },
   "file_extension": ".py",
   "mimetype": "text/x-python",
   "name": "python",
   "nbconvert_exporter": "python",
   "pygments_lexer": "ipython3",
   "version": "3.9.7"
  }
 },
 "nbformat": 4,
 "nbformat_minor": 2
}
