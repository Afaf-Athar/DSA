{
 "cells": [
  {
   "cell_type": "markdown",
   "metadata": {},
   "source": [
    "##### missingNumber"
   ]
  },
  {
   "cell_type": "code",
   "execution_count": 28,
   "metadata": {},
   "outputs": [],
   "source": [
    "\n",
    "def missingNumber(num):\n",
    "\n",
    "    if len(num)==0:\n",
    "        return 0\n",
    "    \n",
    "    num2 = []\n",
    "    i = 0\n",
    "    for i in range(len(num)+1):\n",
    "        num2.append(i)\n",
    "\n",
    "    unique_num = list(set(num))\n",
    "    unique_num2 = list(set(num2))\n",
    "\n",
    "    for i in unique_num2:\n",
    "        if i not in unique_num:\n",
    "\n",
    "            return i\n",
    "        \n"
   ]
  },
  {
   "cell_type": "code",
   "execution_count": null,
   "metadata": {},
   "outputs": [],
   "source": [
    "def missingNumber(num):\n",
    "    size = len(num)+1\n",
    "\n",
    "    if len(num)==0:\n",
    "        return 0\n",
    "    \n",
    "    for i in range(0,(size)):\n",
    "        if i not in num:\n",
    "            return i"
   ]
  },
  {
   "cell_type": "code",
   "execution_count": 29,
   "metadata": {},
   "outputs": [
    {
     "data": {
      "text/plain": [
       "8"
      ]
     },
     "execution_count": 29,
     "metadata": {},
     "output_type": "execute_result"
    }
   ],
   "source": [
    "# num = [3,0,1]\n",
    "# num = [0,1]\n",
    "num = [9,6,4,2,3,5,7,0,1]\n",
    "missingNumber = missingNumber(num)\n",
    "missingNumber"
   ]
  },
  {
   "cell_type": "code",
   "execution_count": null,
   "metadata": {},
   "outputs": [],
   "source": []
  },
  {
   "cell_type": "code",
   "execution_count": null,
   "metadata": {},
   "outputs": [],
   "source": []
  }
 ],
 "metadata": {
  "kernelspec": {
   "display_name": "base",
   "language": "python",
   "name": "python3"
  },
  "language_info": {
   "codemirror_mode": {
    "name": "ipython",
    "version": 3
   },
   "file_extension": ".py",
   "mimetype": "text/x-python",
   "name": "python",
   "nbconvert_exporter": "python",
   "pygments_lexer": "ipython3",
   "version": "3.9.7"
  }
 },
 "nbformat": 4,
 "nbformat_minor": 2
}
