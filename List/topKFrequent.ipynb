{
 "cells": [
  {
   "cell_type": "markdown",
   "metadata": {},
   "source": [
    "### Top K Elements in List"
   ]
  },
  {
   "cell_type": "code",
   "execution_count": 88,
   "metadata": {},
   "outputs": [],
   "source": [
    "from collections import OrderedDict\n",
    "def topKFrequent(nums, k):\n",
    "\n",
    "    dic = {}\n",
    "    for ele in nums:\n",
    "        if ele in dic:\n",
    "            dic[ele] += 1\n",
    "        else:\n",
    "            dic[ele] = 1\n",
    "        # print(dic)\n",
    "        \n",
    "\n",
    "    top_ele = []\n",
    "    a = sorted(dic.items(), key=lambda x: x[1],reverse=True)[:k] \n",
    "    print(a)\n",
    "\n",
    "    for key, value in a:\n",
    "        print(key, \"->\", value)\n",
    "        top_ele.append(key)\n",
    "    return top_ele\n",
    "\n",
    "    \n",
    "    \n",
    "\n",
    "\n",
    "    "
   ]
  },
  {
   "cell_type": "code",
   "execution_count": 89,
   "metadata": {},
   "outputs": [
    {
     "name": "stdout",
     "output_type": "stream",
     "text": [
      "[3, 2]\n"
     ]
    }
   ],
   "source": [
    "nums = [1,2,2,3,3,3]\n",
    "# nums = [1,2]\n",
    "k = 2\n",
    "\n",
    "topKFrequent = topKFrequent(nums,k)\n",
    "topKFrequent"
   ]
  },
  {
   "cell_type": "code",
   "execution_count": null,
   "metadata": {},
   "outputs": [],
   "source": [
    "ls = dic.values()\n",
    "d = sorted(ls,reverse=True)[:k]\n",
    "print(d)"
   ]
  },
  {
   "cell_type": "code",
   "execution_count": null,
   "metadata": {},
   "outputs": [],
   "source": []
  }
 ],
 "metadata": {
  "kernelspec": {
   "display_name": "base",
   "language": "python",
   "name": "python3"
  },
  "language_info": {
   "codemirror_mode": {
    "name": "ipython",
    "version": 3
   },
   "file_extension": ".py",
   "mimetype": "text/x-python",
   "name": "python",
   "nbconvert_exporter": "python",
   "pygments_lexer": "ipython3",
   "version": "3.9.7"
  }
 },
 "nbformat": 4,
 "nbformat_minor": 2
}
