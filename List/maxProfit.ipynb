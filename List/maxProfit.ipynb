{
 "cells": [
  {
   "cell_type": "markdown",
   "metadata": {},
   "source": [
    "#### generatePascalTriangle"
   ]
  },
  {
   "cell_type": "code",
   "execution_count": 270,
   "metadata": {},
   "outputs": [
    {
     "name": "stdout",
     "output_type": "stream",
     "text": [
      "2\n"
     ]
    }
   ],
   "source": [
    "# def maxProfit(prices):\n",
    "#     if(len(prices)==0):\n",
    "#         return 0\n",
    "#     index = 0\n",
    "#     buy_stock = prices[0]\n",
    "#     for i, buy in enumerate(prices):\n",
    "#         if(buy < buy_stock):\n",
    "#             buy_stock = prices[i]\n",
    "#             index = i + 1\n",
    "\n",
    "#     sell_df = prices[index:]\n",
    "#     diff = len(prices) - len(sell_df)\n",
    "\n",
    "#     if(len(sell_df)==0):\n",
    "#         return 0\n",
    "    \n",
    "#     max_profit = 0\n",
    "#     profit_index = 0\n",
    "#     for ind, sell in enumerate(sell_df):\n",
    "#         if(buy_stock < sell):          \n",
    "#             profit = sell - buy_stock\n",
    "#             if (profit > max_profit):\n",
    "#                 max_profit = profit\n",
    "#                 profit_index = ind + 1\n",
    "            \n",
    "#     return (profit_index + diff)\n",
    "\n",
    "        \n",
    "\n",
    "# # prices = [7,1,5,3,6,4]\n",
    "# # prices = [7,6,4,3,2]\n",
    "# # prices = []\n",
    "# prices = [1,2]\n",
    "# maxProfit = maxProfit(prices)\n",
    "# print(maxProfit)"
   ]
  },
  {
   "cell_type": "code",
   "execution_count": 275,
   "metadata": {},
   "outputs": [
    {
     "name": "stdout",
     "output_type": "stream",
     "text": [
      "1\n"
     ]
    }
   ],
   "source": [
    "def maxProfit(prices):\n",
    "\n",
    "\n",
    "    min_price = float(\"inf\")\n",
    "    max_profit = 0\n",
    "    for i in range(len(prices)):\n",
    "        if prices[i] < min_price:\n",
    "            min_price = prices[i]\n",
    "        elif prices[i] - min_price > max_profit:\n",
    "            max_profit = prices[i] - min_price\n",
    "\n",
    "    return max_profit\n",
    "\n",
    "        \n",
    "\n",
    "# prices = [7,1,5,3,6,4]\n",
    "# prices = [7,6,4,3,2]\n",
    "# prices = []\n",
    "prices = [1,2]\n",
    "maxProfit = maxProfit(prices)\n",
    "print(maxProfit)"
   ]
  },
  {
   "cell_type": "code",
   "execution_count": 274,
   "metadata": {},
   "outputs": [],
   "source": [
    "# prices = [7,1,5,3,6,4]\n",
    "# maxProfit = maxProfit(prices)\n",
    "# maxProfit "
   ]
  },
  {
   "cell_type": "code",
   "execution_count": null,
   "metadata": {},
   "outputs": [],
   "source": []
  },
  {
   "cell_type": "code",
   "execution_count": null,
   "metadata": {},
   "outputs": [],
   "source": []
  },
  {
   "cell_type": "code",
   "execution_count": null,
   "metadata": {},
   "outputs": [],
   "source": []
  }
 ],
 "metadata": {
  "kernelspec": {
   "display_name": "base",
   "language": "python",
   "name": "python3"
  },
  "language_info": {
   "codemirror_mode": {
    "name": "ipython",
    "version": 3
   },
   "file_extension": ".py",
   "mimetype": "text/x-python",
   "name": "python",
   "nbconvert_exporter": "python",
   "pygments_lexer": "ipython3",
   "version": "3.9.7"
  }
 },
 "nbformat": 4,
 "nbformat_minor": 2
}
