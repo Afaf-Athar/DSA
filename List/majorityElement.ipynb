{
 "cells": [
  {
   "cell_type": "markdown",
   "metadata": {},
   "source": [
    "#### majorityElement"
   ]
  },
  {
   "cell_type": "code",
   "execution_count": 41,
   "metadata": {},
   "outputs": [],
   "source": [
    "def majorityElement(nums):\n",
    "\n",
    "    \n",
    "    threshold = threshold = len(nums) / 2 if len(nums) % 2 == 0 else (len(nums) + 1) / 2\n",
    "    # print(threshold)\n",
    "    seen = {}\n",
    "\n",
    "    for i in nums:\n",
    "        if i in seen:\n",
    "            seen[i] += 1\n",
    "        else:\n",
    "            seen[i] = 1\n",
    "\n",
    "    print(seen)\n",
    "\n",
    "    for key,value in seen.items():\n",
    "        # print(key,value)\n",
    "        if (value>=threshold):\n",
    "            # print(value)\n",
    "            majorityElement_val = key\n",
    "\n",
    "    return majorityElement_val\n",
    "\n",
    "        \n",
    "    \n",
    "    \n",
    "                    \n",
    "\n",
    "       \n",
    "\n",
    "\n",
    "        "
   ]
  },
  {
   "cell_type": "code",
   "execution_count": 42,
   "metadata": {},
   "outputs": [
    {
     "name": "stdout",
     "output_type": "stream",
     "text": [
      "{2: 4, 1: 3}\n"
     ]
    },
    {
     "data": {
      "text/plain": [
       "2"
      ]
     },
     "execution_count": 42,
     "metadata": {},
     "output_type": "execute_result"
    }
   ],
   "source": [
    "# nums = [2,2,1,1,1,2,2,3,3]\n",
    "# nums = [3,2,3]\n",
    "nums = [2,2,1,1,1,2,2]\n",
    "\n",
    "\n",
    "majorityElement = majorityElement(nums)\n",
    "majorityElement"
   ]
  },
  {
   "cell_type": "code",
   "execution_count": null,
   "metadata": {},
   "outputs": [],
   "source": []
  }
 ],
 "metadata": {
  "kernelspec": {
   "display_name": "base",
   "language": "python",
   "name": "python3"
  },
  "language_info": {
   "codemirror_mode": {
    "name": "ipython",
    "version": 3
   },
   "file_extension": ".py",
   "mimetype": "text/x-python",
   "name": "python",
   "nbconvert_exporter": "python",
   "pygments_lexer": "ipython3",
   "version": "3.9.7"
  }
 },
 "nbformat": 4,
 "nbformat_minor": 2
}
