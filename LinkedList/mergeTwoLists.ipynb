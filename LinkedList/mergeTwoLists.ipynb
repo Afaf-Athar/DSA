{
 "cells": [
  {
   "cell_type": "markdown",
   "metadata": {},
   "source": [
    "##### mergeTwoLists"
   ]
  },
  {
   "cell_type": "code",
   "execution_count": 36,
   "metadata": {},
   "outputs": [],
   "source": [
    "class ListNode:\n",
    "    def __init__(self,val) :\n",
    "        self.val = val\n",
    "        self.next = None\n",
    "\n",
    "\n",
    "def mergeTwoLists(list1,list2):\n",
    "    print(\"houseconnection\")\n",
    "\n",
    "    if (list1 == None or list1.next == None):\n",
    "            return list1\n",
    "    elif (list2 == None or list2.next == None):\n",
    "            return list2\n",
    "\n",
    "    \n",
    "    traverseList1 =  list1\n",
    "    traverseList2 = list2\n",
    "\n",
    "    while(traverseList1== None or traverseList2 == None):\n",
    "\n",
    "        if(traverseList1.val <= traverseList2.val):\n",
    "            traverseList1.next = traverseList2\n",
    "            traverseList2.next = list1\n",
    "            traverseList1 =  traverseList1.next\n",
    "            traverseList2 = list2.next\n",
    "\n",
    "        else:\n",
    "            traverseList2.next = traverseList1\n",
    "            traverseList1.next = list1\n",
    "            traverseList1 = list1.next\n",
    "            traverseList2 = list2.next\n",
    "            \n",
    "    list1 = traverseList1\n",
    "    list2 = traverseList2\n",
    "\n",
    "    return list1\n",
    "\n",
    "\n",
    "def createlinkedlist(index1,list1,index2,list2):    \n",
    "    if ((index1==len(list1)) or (index2 == len(list2))):\n",
    "        return None\n",
    "    \n",
    "    node1 = ListNode(list1[index1])\n",
    "    node2 = ListNode(list2[index2])\n",
    "    node1.next = createlinkedlist(index1+1,list1)\n",
    "    node2.next = createlinkedlist(index2+1,list2)\n",
    "\n",
    "    return node1, node2\n",
    "\n",
    "\n"
   ]
  },
  {
   "cell_type": "code",
   "execution_count": 37,
   "metadata": {},
   "outputs": [
    {
     "ename": "TypeError",
     "evalue": "object of type 'NoneType' has no len()",
     "output_type": "error",
     "traceback": [
      "\u001b[0;31m---------------------------------------------------------------------------\u001b[0m",
      "\u001b[0;31mTypeError\u001b[0m                                 Traceback (most recent call last)",
      "\u001b[0;32m/var/folders/nr/ylk2j3hx7yz7460520wq9pt00000gn/T/ipykernel_93688/226022800.py\u001b[0m in \u001b[0;36m<module>\u001b[0;34m\u001b[0m\n\u001b[1;32m      2\u001b[0m \u001b[0mlist2\u001b[0m \u001b[0;34m=\u001b[0m \u001b[0;34m[\u001b[0m\u001b[0;36m1\u001b[0m\u001b[0;34m,\u001b[0m\u001b[0;36m3\u001b[0m\u001b[0;34m,\u001b[0m\u001b[0;36m4\u001b[0m\u001b[0;34m]\u001b[0m\u001b[0;34m\u001b[0m\u001b[0;34m\u001b[0m\u001b[0m\n\u001b[1;32m      3\u001b[0m \u001b[0;34m\u001b[0m\u001b[0m\n\u001b[0;32m----> 4\u001b[0;31m \u001b[0mfirstNode\u001b[0m \u001b[0;34m=\u001b[0m \u001b[0mcreatelinkedlist\u001b[0m\u001b[0;34m(\u001b[0m\u001b[0;36m0\u001b[0m\u001b[0;34m,\u001b[0m\u001b[0mlist1\u001b[0m\u001b[0;34m,\u001b[0m\u001b[0;32mNone\u001b[0m\u001b[0;34m,\u001b[0m\u001b[0;32mNone\u001b[0m\u001b[0;34m)\u001b[0m\u001b[0;34m\u001b[0m\u001b[0;34m\u001b[0m\u001b[0m\n\u001b[0m\u001b[1;32m      5\u001b[0m \u001b[0msecondNode\u001b[0m \u001b[0;34m=\u001b[0m \u001b[0mcreatelinkedlist\u001b[0m\u001b[0;34m(\u001b[0m\u001b[0;32mNone\u001b[0m\u001b[0;34m,\u001b[0m\u001b[0;32mNone\u001b[0m\u001b[0;34m,\u001b[0m\u001b[0;36m0\u001b[0m\u001b[0;34m,\u001b[0m\u001b[0mlist2\u001b[0m\u001b[0;34m)\u001b[0m\u001b[0;34m\u001b[0m\u001b[0;34m\u001b[0m\u001b[0m\n\u001b[1;32m      6\u001b[0m \u001b[0mmergeTwoList\u001b[0m \u001b[0;34m=\u001b[0m \u001b[0mmergeTwoLists\u001b[0m\u001b[0;34m(\u001b[0m\u001b[0mfirstNode\u001b[0m\u001b[0;34m,\u001b[0m\u001b[0msecondNode\u001b[0m\u001b[0;34m)\u001b[0m\u001b[0;34m\u001b[0m\u001b[0;34m\u001b[0m\u001b[0m\n",
      "\u001b[0;32m/var/folders/nr/ylk2j3hx7yz7460520wq9pt00000gn/T/ipykernel_93688/516209073.py\u001b[0m in \u001b[0;36mcreatelinkedlist\u001b[0;34m(index1, list1, index2, list2)\u001b[0m\n\u001b[1;32m     17\u001b[0m \u001b[0;34m\u001b[0m\u001b[0m\n\u001b[1;32m     18\u001b[0m \u001b[0;32mdef\u001b[0m \u001b[0mcreatelinkedlist\u001b[0m\u001b[0;34m(\u001b[0m\u001b[0mindex1\u001b[0m\u001b[0;34m,\u001b[0m\u001b[0mlist1\u001b[0m\u001b[0;34m,\u001b[0m\u001b[0mindex2\u001b[0m\u001b[0;34m,\u001b[0m\u001b[0mlist2\u001b[0m\u001b[0;34m)\u001b[0m\u001b[0;34m:\u001b[0m\u001b[0;34m\u001b[0m\u001b[0;34m\u001b[0m\u001b[0m\n\u001b[0;32m---> 19\u001b[0;31m     \u001b[0;32mif\u001b[0m \u001b[0;34m(\u001b[0m\u001b[0;34m(\u001b[0m\u001b[0mindex1\u001b[0m\u001b[0;34m==\u001b[0m\u001b[0mlen\u001b[0m\u001b[0;34m(\u001b[0m\u001b[0mlist1\u001b[0m\u001b[0;34m)\u001b[0m\u001b[0;34m)\u001b[0m \u001b[0;32mor\u001b[0m \u001b[0;34m(\u001b[0m\u001b[0mindex2\u001b[0m \u001b[0;34m==\u001b[0m \u001b[0mlen\u001b[0m\u001b[0;34m(\u001b[0m\u001b[0mlist2\u001b[0m\u001b[0;34m)\u001b[0m\u001b[0;34m)\u001b[0m\u001b[0;34m)\u001b[0m\u001b[0;34m:\u001b[0m\u001b[0;34m\u001b[0m\u001b[0;34m\u001b[0m\u001b[0m\n\u001b[0m\u001b[1;32m     20\u001b[0m         \u001b[0;32mreturn\u001b[0m \u001b[0;32mNone\u001b[0m\u001b[0;34m\u001b[0m\u001b[0;34m\u001b[0m\u001b[0m\n\u001b[1;32m     21\u001b[0m \u001b[0;34m\u001b[0m\u001b[0m\n",
      "\u001b[0;31mTypeError\u001b[0m: object of type 'NoneType' has no len()"
     ]
    }
   ],
   "source": [
    "list1 = [1,2,4]\n",
    "list2 = [1,3,4]\n",
    "\n",
    "firstNode = createlinkedlist(0,list1,None,None)\n",
    "secondNode = createlinkedlist(None,None,0,list2)\n",
    "mergeTwoList = mergeTwoLists(firstNode,secondNode)\n",
    "mergeTwoList\n",
    "\n",
    "while(mergeTwoList!=None):\n",
    "    print(mergeTwoList.val)\n",
    "    mergeTwoList = mergeTwoList.next"
   ]
  },
  {
   "cell_type": "code",
   "execution_count": null,
   "metadata": {},
   "outputs": [],
   "source": []
  },
  {
   "cell_type": "code",
   "execution_count": null,
   "metadata": {},
   "outputs": [],
   "source": []
  }
 ],
 "metadata": {
  "kernelspec": {
   "display_name": "base",
   "language": "python",
   "name": "python3"
  },
  "language_info": {
   "codemirror_mode": {
    "name": "ipython",
    "version": 3
   },
   "file_extension": ".py",
   "mimetype": "text/x-python",
   "name": "python",
   "nbconvert_exporter": "python",
   "pygments_lexer": "ipython3",
   "version": "3.9.7"
  }
 },
 "nbformat": 4,
 "nbformat_minor": 2
}
